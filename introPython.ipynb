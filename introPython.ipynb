{
 "cells": [
  {
   "cell_type": "markdown",
   "metadata": {},
   "source": [
    "* Acceso al shell"
   ]
  },
  {
   "cell_type": "code",
   "execution_count": 1,
   "metadata": {},
   "outputs": [
    {
     "name": "stdout",
     "output_type": "stream",
     "text": [
      "anaconda3\t   Downloads\t       Music\t\t  __pycache__\r\n",
      "bash_history\t   first_dir\t       my_fb_friends.csv  R\r\n",
      "ClasePython.ipynb  funcionespyton.py   notebook.tex\t  Repos\r\n",
      "Data\t\t   hello_world.py      one\t\t  size.txt\r\n",
      "derby.log\t   Intro python.ipynb  Pictures\t\t  Templates\r\n",
      "Desktop\t\t   metastore_db        pp.txt\t\t  uniq_example.txt\r\n",
      "Documents\t   modulo.py\t       Public\t\t  Videos\r\n"
     ]
    }
   ],
   "source": [
    "!ls"
   ]
  },
  {
   "cell_type": "code",
   "execution_count": 2,
   "metadata": {},
   "outputs": [
    {
     "name": "stdout",
     "output_type": "stream",
     "text": [
      "Hellow world\r\n",
      "Hellow world\r\n",
      "Hellow world\r\n"
     ]
    }
   ],
   "source": [
    "!cat pp.txt"
   ]
  },
  {
   "cell_type": "code",
   "execution_count": 4,
   "metadata": {
    "scrolled": true
   },
   "outputs": [
    {
     "name": "stdout",
     "output_type": "stream",
     "text": [
      "total 144\r\n",
      "drwxr-xr-x 22 dsc  4096 mar 12  2018 \u001b[0m\u001b[01;34manaconda3\u001b[0m/\r\n",
      "-rw-------  1 dsc  6685 nov 30 15:27 bash_history\r\n",
      "-rw-r--r--  1 dsc  5842 dic 14 21:46 ClasePython.ipynb\r\n",
      "drwxr-x---  7 dsc  4096 mar 13  2018 \u001b[01;34mData\u001b[0m/\r\n",
      "-rw-r--r--  1 dsc   701 mar 13  2018 derby.log\r\n",
      "drwxr-xr-x  2 dsc  4096 nov 23 20:30 \u001b[01;34mDesktop\u001b[0m/\r\n",
      "drwxr-xr-x  2 dsc  4096 mar 13  2018 \u001b[01;34mDocuments\u001b[0m/\r\n",
      "drwxr-xr-x  2 dsc  4096 nov 23 20:23 \u001b[01;34mDownloads\u001b[0m/\r\n",
      "drwxr-xr-x  5 dsc  4096 nov 24 11:18 \u001b[01;34mfirst_dir\u001b[0m/\r\n",
      "-rw-r--r--  1 dsc   263 dic 14 21:07 funcionespyton.py\r\n",
      "-rw-r--r--  1 dsc    20 dic 14 17:16 hello_world.py\r\n",
      "-rw-r--r--  1 dsc  3965 dic 15 09:20 Intro python.ipynb\r\n",
      "drwxr-xr-x  5 dsc  4096 mar 13  2018 \u001b[01;34mmetastore_db\u001b[0m/\r\n",
      "-rw-r--r--  1 dsc  5517 dic 14 21:03 modulo.py\r\n",
      "drwxr-xr-x  2 dsc  4096 mar 13  2018 \u001b[01;34mMusic\u001b[0m/\r\n",
      "-rw-r--r--  1 dsc   174 dic  1 12:02 my_fb_friends.csv\r\n",
      "-rw-r--r--  1 dsc 19645 dic 14 21:43 notebook.tex\r\n",
      "drwxr-xr-x  6 dsc  4096 nov 24 11:04 \u001b[01;34mone\u001b[0m/\r\n",
      "drwxr-xr-x  2 dsc  4096 mar 13  2018 \u001b[01;34mPictures\u001b[0m/\r\n",
      "-rw-r--r--  1 dsc    39 nov 24 13:05 pp.txt\r\n",
      "drwxr-xr-x  2 dsc  4096 mar 13  2018 \u001b[01;34mPublic\u001b[0m/\r\n",
      "drwxr-xr-x  2 dsc  4096 dic 14 21:40 \u001b[01;34m__pycache__\u001b[0m/\r\n",
      "drwxrwxr-x  3 dsc  4096 mar 12  2018 \u001b[01;34mR\u001b[0m/\r\n",
      "drwxr-xr-x  4 dsc  4096 nov 24 10:10 \u001b[01;34mRepos\u001b[0m/\r\n",
      "-rw-r--r--  1 dsc    24 nov 24 13:11 size.txt\r\n",
      "drwxr-xr-x  2 dsc  4096 mar 13  2018 \u001b[01;34mTemplates\u001b[0m/\r\n",
      "-rw-r--r--  1 dsc    31 nov 30 17:13 uniq_example.txt\r\n",
      "drwxr-xr-x  2 dsc  4096 mar 13  2018 \u001b[01;34mVideos\u001b[0m/\r\n"
     ]
    }
   ],
   "source": [
    "ll"
   ]
  },
  {
   "cell_type": "code",
   "execution_count": 8,
   "metadata": {},
   "outputs": [
    {
     "name": "stdout",
     "output_type": "stream",
     "text": [
      "/home/dsc\r\n"
     ]
    }
   ],
   "source": [
    "! cd ..\n",
    "! pwd"
   ]
  },
  {
   "cell_type": "code",
   "execution_count": 9,
   "metadata": {},
   "outputs": [
    {
     "name": "stdout",
     "output_type": "stream",
     "text": [
      "[Errno 2] No such file or directory: 'dsc'\n",
      "/home/dsc\n"
     ]
    }
   ],
   "source": [
    "%cd dsc\n"
   ]
  },
  {
   "cell_type": "code",
   "execution_count": 11,
   "metadata": {},
   "outputs": [
    {
     "name": "stdout",
     "output_type": "stream",
     "text": [
      "/bin/sh: 1: history: not found\r\n"
     ]
    }
   ],
   "source": [
    "! history"
   ]
  },
  {
   "cell_type": "code",
   "execution_count": 12,
   "metadata": {},
   "outputs": [
    {
     "name": "stdout",
     "output_type": "stream",
     "text": [
      "Directory history (kept in _dh)\n",
      "0: /home/dsc\n"
     ]
    }
   ],
   "source": [
    "%dhist"
   ]
  },
  {
   "cell_type": "code",
   "execution_count": 13,
   "metadata": {},
   "outputs": [
    {
     "data": {
      "text/plain": [
       "['/home/dsc']"
      ]
     },
     "execution_count": 13,
     "metadata": {},
     "output_type": "execute_result"
    }
   ],
   "source": [
    "_dh"
   ]
  },
  {
   "cell_type": "code",
   "execution_count": 14,
   "metadata": {},
   "outputs": [
    {
     "name": "stdout",
     "output_type": "stream",
     "text": [
      "/home/dsc\n"
     ]
    }
   ],
   "source": [
    "for path in _dh:\n",
    "    print(path)"
   ]
  },
  {
   "cell_type": "code",
   "execution_count": 15,
   "metadata": {},
   "outputs": [
    {
     "data": {
      "application/json": {
       "cell": {
        "!": "OSMagics",
        "HTML": "Other",
        "SVG": "Other",
        "bash": "Other",
        "capture": "ExecutionMagics",
        "debug": "ExecutionMagics",
        "file": "Other",
        "html": "DisplayMagics",
        "javascript": "DisplayMagics",
        "js": "DisplayMagics",
        "latex": "DisplayMagics",
        "markdown": "DisplayMagics",
        "perl": "Other",
        "prun": "ExecutionMagics",
        "pypy": "Other",
        "python": "Other",
        "python2": "Other",
        "python3": "Other",
        "ruby": "Other",
        "script": "ScriptMagics",
        "sh": "Other",
        "svg": "DisplayMagics",
        "sx": "OSMagics",
        "system": "OSMagics",
        "time": "ExecutionMagics",
        "timeit": "ExecutionMagics",
        "writefile": "OSMagics"
       },
       "line": {
        "alias": "OSMagics",
        "alias_magic": "BasicMagics",
        "autocall": "AutoMagics",
        "automagic": "AutoMagics",
        "autosave": "KernelMagics",
        "bookmark": "OSMagics",
        "cat": "Other",
        "cd": "OSMagics",
        "clear": "KernelMagics",
        "colors": "BasicMagics",
        "config": "ConfigMagics",
        "connect_info": "KernelMagics",
        "cp": "Other",
        "debug": "ExecutionMagics",
        "dhist": "OSMagics",
        "dirs": "OSMagics",
        "doctest_mode": "BasicMagics",
        "ed": "Other",
        "edit": "KernelMagics",
        "env": "OSMagics",
        "gui": "BasicMagics",
        "hist": "Other",
        "history": "HistoryMagics",
        "killbgscripts": "ScriptMagics",
        "ldir": "Other",
        "less": "KernelMagics",
        "lf": "Other",
        "lk": "Other",
        "ll": "Other",
        "load": "CodeMagics",
        "load_ext": "ExtensionMagics",
        "loadpy": "CodeMagics",
        "logoff": "LoggingMagics",
        "logon": "LoggingMagics",
        "logstart": "LoggingMagics",
        "logstate": "LoggingMagics",
        "logstop": "LoggingMagics",
        "ls": "Other",
        "lsmagic": "BasicMagics",
        "lx": "Other",
        "macro": "ExecutionMagics",
        "magic": "BasicMagics",
        "man": "KernelMagics",
        "matplotlib": "PylabMagics",
        "mkdir": "Other",
        "more": "KernelMagics",
        "mv": "Other",
        "notebook": "BasicMagics",
        "page": "BasicMagics",
        "pastebin": "CodeMagics",
        "pdb": "ExecutionMagics",
        "pdef": "NamespaceMagics",
        "pdoc": "NamespaceMagics",
        "pfile": "NamespaceMagics",
        "pinfo": "NamespaceMagics",
        "pinfo2": "NamespaceMagics",
        "pip": "BasicMagics",
        "popd": "OSMagics",
        "pprint": "BasicMagics",
        "precision": "BasicMagics",
        "profile": "BasicMagics",
        "prun": "ExecutionMagics",
        "psearch": "NamespaceMagics",
        "psource": "NamespaceMagics",
        "pushd": "OSMagics",
        "pwd": "OSMagics",
        "pycat": "OSMagics",
        "pylab": "PylabMagics",
        "qtconsole": "KernelMagics",
        "quickref": "BasicMagics",
        "recall": "HistoryMagics",
        "rehashx": "OSMagics",
        "reload_ext": "ExtensionMagics",
        "rep": "Other",
        "rerun": "HistoryMagics",
        "reset": "NamespaceMagics",
        "reset_selective": "NamespaceMagics",
        "rm": "Other",
        "rmdir": "Other",
        "run": "ExecutionMagics",
        "save": "CodeMagics",
        "sc": "OSMagics",
        "set_env": "OSMagics",
        "store": "StoreMagics",
        "sx": "OSMagics",
        "system": "OSMagics",
        "tb": "ExecutionMagics",
        "time": "ExecutionMagics",
        "timeit": "ExecutionMagics",
        "unalias": "OSMagics",
        "unload_ext": "ExtensionMagics",
        "who": "NamespaceMagics",
        "who_ls": "NamespaceMagics",
        "whos": "NamespaceMagics",
        "xdel": "NamespaceMagics",
        "xmode": "BasicMagics"
       }
      },
      "text/plain": [
       "Available line magics:\n",
       "%alias  %alias_magic  %autocall  %automagic  %autosave  %bookmark  %cat  %cd  %clear  %colors  %config  %connect_info  %cp  %debug  %dhist  %dirs  %doctest_mode  %ed  %edit  %env  %gui  %hist  %history  %killbgscripts  %ldir  %less  %lf  %lk  %ll  %load  %load_ext  %loadpy  %logoff  %logon  %logstart  %logstate  %logstop  %ls  %lsmagic  %lx  %macro  %magic  %man  %matplotlib  %mkdir  %more  %mv  %notebook  %page  %pastebin  %pdb  %pdef  %pdoc  %pfile  %pinfo  %pinfo2  %popd  %pprint  %precision  %profile  %prun  %psearch  %psource  %pushd  %pwd  %pycat  %pylab  %qtconsole  %quickref  %recall  %rehashx  %reload_ext  %rep  %rerun  %reset  %reset_selective  %rm  %rmdir  %run  %save  %sc  %set_env  %store  %sx  %system  %tb  %time  %timeit  %unalias  %unload_ext  %who  %who_ls  %whos  %xdel  %xmode\n",
       "\n",
       "Available cell magics:\n",
       "%%!  %%HTML  %%SVG  %%bash  %%capture  %%debug  %%file  %%html  %%javascript  %%js  %%latex  %%markdown  %%perl  %%prun  %%pypy  %%python  %%python2  %%python3  %%ruby  %%script  %%sh  %%svg  %%sx  %%system  %%time  %%timeit  %%writefile\n",
       "\n",
       "Automagic is ON, % prefix IS NOT needed for line magics."
      ]
     },
     "execution_count": 15,
     "metadata": {},
     "output_type": "execute_result"
    }
   ],
   "source": [
    "lsmagic"
   ]
  },
  {
   "cell_type": "code",
   "execution_count": 17,
   "metadata": {},
   "outputs": [
    {
     "data": {
      "text/html": [
       "<html>\n",
       "<body>\n",
       "<div style=\"color:red\">Hola!!!</div>\n",
       "</body>\n",
       "</html>"
      ],
      "text/plain": [
       "<IPython.core.display.HTML object>"
      ]
     },
     "metadata": {},
     "output_type": "display_data"
    }
   ],
   "source": [
    "%%HTML\n",
    "<html>\n",
    "<body>\n",
    "<div style=\"color:red\">Hola!!!</div>\n",
    "</body>\n",
    "</html>"
   ]
  },
  {
   "cell_type": "code",
   "execution_count": 18,
   "metadata": {},
   "outputs": [
    {
     "data": {
      "image/svg+xml": [
       "<svg height=\"316\" width=\"617\" xmlns=\"http://www.w3.org/2000/svg\" xmlns:xlink=\"http://www.w3.org/1999/xlink\">\n",
       "<defs>\n",
       "\t<radialGradient cx=\"549.29\" cy=\"159.12\" gradientTransform=\"matrix(.65 -1.52 1.4 .601129 -26.35 869.29)\" gradientUnits=\"userSpaceOnUse\" id=\"g\" r=\"127\">\n",
       "\t\t<stop offset=\"0\" stop-color=\"#f00\" stop-opacity=\".27\"/>\n",
       "\t\t<stop offset=\"1\" stop-color=\"#f00\"/>\n",
       "\t</radialGradient>\n",
       "\t<radialGradient cx=\"492.86\" cy=\"379.51\" gradientTransform=\"matrix(.945 .042 -0.043 .988 43.598 -15.991)\" gradientUnits=\"userSpaceOnUse\" id=\"h\" r=\"184.96\">\n",
       "\t\t<stop offset=\".5\"/>\n",
       "\t\t<stop offset=\".75\"/>\n",
       "\t\t<stop offset=\".88\" stop-opacity=\".72\"/>\n",
       "\t\t<stop offset=\".94\" stop-opacity=\".51\"/>\n",
       "\t\t<stop offset=\".97\" stop-opacity=\".33\"/>\n",
       "\t\t<stop offset=\"1\" stop-opacity=\"0\"/>\n",
       "\t</radialGradient>\n",
       "\t<radialGradient cx=\"449.13\" cy=\"345.23\" gradientTransform=\"matrix(1.06 0 0 1 -30.44 2)\" gradientUnits=\"userSpaceOnUse\" id=\"k\" r=\"184.96\">\n",
       "\t\t<stop offset=\"0\" stop-color=\"#fa4\"/>\n",
       "\t\t<stop offset=\".5\" stop-color=\"#c3791f\"/>\n",
       "\t\t<stop offset=\"1\" stop-color=\"#935000\"/>\n",
       "\t</radialGradient>\n",
       "</defs>\n",
       "<g fill-opacity=\".5\" stroke-width=\"4\">\n",
       "\t<circle cx=\"108\" cy=\"108.5\" fill=\"#0ff\" r=\"100\" stroke=\"#0ff\"/>\n",
       "\t<circle cx=\"157.3\" cy=\"209.5\" fill=\"#ff0\" r=\"100\" stroke=\"#ff0\"/>\n",
       "\t<circle cx=\"209.2\" cy=\"109.5\" fill=\"#f0f\" r=\"100\" stroke=\"#f0f\"/>\n",
       "</g>\n",
       "<rect fill=\"url(#g)\" height=\"150\" rx=\"41.429\" stroke=\"#000\" stroke-dasharray=\"8 4\" stroke-width=\"4\" width=\"250\" x=\"357.2\" y=\"7.53\"/>\n",
       "<text fill=\"#fff\" fill-opacity=\".5\" font-family=\"Bitstream Vera Sans\" font-size=\"72\" font-style=\"oblique\" font-weight=\"700\" stroke=\"#000\" stroke-dasharray=\"6 3\" stroke-width=\"3\" x=\"405.11\" y=\"106.51\">SVG</text>\n",
       "<g transform=\"matrix(.4033 0 0 .4034 284.7118 53.5686)\">\n",
       "\t<path d=\"M675.82 379.51A182.96 182.96 0 1 0 309.89 379.51 182.96 182.96 0 1 0 675.82 379.51\" fill=\"url(#h)\" transform=\"translate(25.72 42.14)\"/>\n",
       "\t<path d=\"M675.82 379.51A182.96 182.96 0 1 0 309.89 379.51 182.96 182.96 0 1 0 675.82 379.51\" fill=\"url(#k)\" transform=\"translate(3 1)\"/>\n",
       "\t<path d=\"M448.21 203.84C450.36 204.63 453.75 205.95 456.34 207.72 458.94 209.49 460.71 211.6 460.84 214 461.16 219.5 462.73 224.23 456.31 234.22 449.89 244.21 435.16 259.08 402.75 282.44 341.89 326.3 327.7 419.11 324.83 445.46L327.94 453.22C327.94 453.22 336.06 335.44 405.09 285.69 437.69 262.19 452.72 247.17 459.66 236.38 466.59 225.58 465.12 218.64 464.84 213.75 464.61 209.57 461.69 206.56 458.59 204.44 457.31 203.56 455.95 202.87 454.65 202.24L448.21 203.84\"/>\n",
       "\t<path d=\"M509.02 198.03C499.53 209.87 477.92 245.51 465.16 336.75 449.4 449.43 450.71 546.83 450.92 557.84L454.94 558.75C454.94 558.75 452.44 456.6 469.13 337.28 482.75 239.88 506.43 206.86 513.9 198.46 513.9 198.46 509.02 198.03 509.02 198.03\"/>\n",
       "\t<path d=\"M556.69 211.63C547.04 211.81 537.02 214.52 529.97 222.91 520.74 233.89 520.92 245.76 524.5 256.19 528.08 266.61 534.88 275.93 538.97 282.88 541.2 286.67 547.46 295.58 555.44 309.19 563.42 322.8 573.03 340.98 581.72 362.78 599.1 406.39 612.73 464.47 601.94 529.59 601.94 529.59 606.57 526.08 606.57 526.08 616.26 461.74 602.64 404.43 585.44 361.28 576.65 339.24 566.93 320.89 558.88 307.16 550.82 293.42 544.35 284.15 542.41 280.84 538.14 273.59 531.59 264.51 528.28 254.88 524.97 245.24 524.71 235.41 533.03 225.5 541.18 215.8 554.2 214.66 565.56 216.13 576.92 217.59 586.26 221.52 586.26 221.52 586.26 221.52 568.5 212.56 568.5 212.56 567.64 212.42 566.98 212.27 566.09 212.16 563.09 211.77 559.9 211.56 556.69 211.63\"/>\n",
       "\t<path d=\"M458.16 224.97C424.33 226.02 399.2 233.81 381.5 242.41 376.06 245.05 371.36 247.88 367.29 250.52 362.72 255.08 357.49 260.81 350.56 269.41 350.56 269.41 360.3 257.15 383.25 246 406.2 234.85 442.22 224.98 494.53 230.38 599.18 241.17 643.21 296.98 675.72 347 675.72 347 673.38 336.37 673.38 336.37 641.03 288.32 594.99 236.7 494.94 226.38 481.69 225.01 469.43 224.62 458.16 224.97\"/>\n",
       "</g>\n",
       "</svg>"
      ],
      "text/plain": [
       "<IPython.core.display.SVG object>"
      ]
     },
     "metadata": {},
     "output_type": "display_data"
    }
   ],
   "source": [
    "%%SVG\n",
    "<svg xmlns=\"http://www.w3.org/2000/svg\" xmlns:xlink=\"http://www.w3.org/1999/xlink\" width=\"617\" height=\"316\">\n",
    "<defs>\n",
    "\t<radialGradient id=\"g\" cx=\"549.29\" cy=\"159.12\" r=\"127\" gradientUnits=\"userSpaceOnUse\" gradientTransform=\"matrix(.65 -1.52 1.4 .601129 -26.35 869.29)\">\n",
    "\t\t<stop offset=\"0\" stop-color=\"#f00\" stop-opacity=\".27\"/>\n",
    "\t\t<stop offset=\"1\" stop-color=\"#f00\"/>\n",
    "\t</radialGradient>\n",
    "\t<radialGradient id=\"h\" cx=\"492.86\" cy=\"379.51\" r=\"184.96\" gradientUnits=\"userSpaceOnUse\" gradientTransform=\"matrix(.945 .042 -0.043 .988 43.598 -15.991)\">\n",
    "\t\t<stop offset=\".5\"/>\n",
    "\t\t<stop offset=\".75\"/>\n",
    "\t\t<stop offset=\".88\" stop-opacity=\".72\"/>\n",
    "\t\t<stop offset=\".94\" stop-opacity=\".51\"/>\n",
    "\t\t<stop offset=\".97\" stop-opacity=\".33\"/>\n",
    "\t\t<stop offset=\"1\" stop-opacity=\"0\"/>\n",
    "\t</radialGradient>\n",
    "\t<radialGradient id=\"k\" cx=\"449.13\" cy=\"345.23\" r=\"184.96\" gradientUnits=\"userSpaceOnUse\" gradientTransform=\"matrix(1.06 0 0 1 -30.44 2)\">\n",
    "\t\t<stop offset=\"0\" stop-color=\"#fa4\"/>\n",
    "\t\t<stop offset=\".5\" stop-color=\"#c3791f\"/>\n",
    "\t\t<stop offset=\"1\" stop-color=\"#935000\"/>\n",
    "\t</radialGradient>\n",
    "</defs>\n",
    "<g fill-opacity=\".5\" stroke-width=\"4\">\n",
    "\t<circle cx=\"108\" cy=\"108.5\" r=\"100\" fill=\"#0ff\" stroke=\"#0ff\"/>\n",
    "\t<circle cx=\"157.3\" cy=\"209.5\" r=\"100\" fill=\"#ff0\" stroke=\"#ff0\"/>\n",
    "\t<circle cx=\"209.2\" cy=\"109.5\" r=\"100\" fill=\"#f0f\" stroke=\"#f0f\"/>\n",
    "</g>\n",
    "<rect x=\"357.2\" y=\"7.53\" width=\"250\" height=\"150\" rx=\"41.429\" fill=\"url(#g)\" stroke=\"#000\" stroke-width=\"4\" stroke-dasharray=\"8 4\"/>\n",
    "<text x=\"405.11\" y=\"106.51\" font-family=\"Bitstream Vera Sans\" font-size=\"72\" font-style=\"oblique\" font-weight=\"700\" fill=\"#fff\" fill-opacity=\".5\" stroke=\"#000\" stroke-width=\"3\" stroke-dasharray=\"6 3\">SVG</text>\n",
    "<g transform=\"matrix(.4033 0 0 .4034 284.7118 53.5686)\">\n",
    "\t<path fill=\"url(#h)\" transform=\"translate(25.72 42.14)\" d=\"M675.82 379.51A182.96 182.96 0 1 0 309.89 379.51 182.96 182.96 0 1 0 675.82 379.51\"/>\n",
    "\t<path fill=\"url(#k)\" transform=\"translate(3 1)\" d=\"M675.82 379.51A182.96 182.96 0 1 0 309.89 379.51 182.96 182.96 0 1 0 675.82 379.51\"/>\n",
    "\t<path d=\"M448.21 203.84C450.36 204.63 453.75 205.95 456.34 207.72 458.94 209.49 460.71 211.6 460.84 214 461.16 219.5 462.73 224.23 456.31 234.22 449.89 244.21 435.16 259.08 402.75 282.44 341.89 326.3 327.7 419.11 324.83 445.46L327.94 453.22C327.94 453.22 336.06 335.44 405.09 285.69 437.69 262.19 452.72 247.17 459.66 236.38 466.59 225.58 465.12 218.64 464.84 213.75 464.61 209.57 461.69 206.56 458.59 204.44 457.31 203.56 455.95 202.87 454.65 202.24L448.21 203.84\"/>\n",
    "\t<path d=\"M509.02 198.03C499.53 209.87 477.92 245.51 465.16 336.75 449.4 449.43 450.71 546.83 450.92 557.84L454.94 558.75C454.94 558.75 452.44 456.6 469.13 337.28 482.75 239.88 506.43 206.86 513.9 198.46 513.9 198.46 509.02 198.03 509.02 198.03\"/>\n",
    "\t<path d=\"M556.69 211.63C547.04 211.81 537.02 214.52 529.97 222.91 520.74 233.89 520.92 245.76 524.5 256.19 528.08 266.61 534.88 275.93 538.97 282.88 541.2 286.67 547.46 295.58 555.44 309.19 563.42 322.8 573.03 340.98 581.72 362.78 599.1 406.39 612.73 464.47 601.94 529.59 601.94 529.59 606.57 526.08 606.57 526.08 616.26 461.74 602.64 404.43 585.44 361.28 576.65 339.24 566.93 320.89 558.88 307.16 550.82 293.42 544.35 284.15 542.41 280.84 538.14 273.59 531.59 264.51 528.28 254.88 524.97 245.24 524.71 235.41 533.03 225.5 541.18 215.8 554.2 214.66 565.56 216.13 576.92 217.59 586.26 221.52 586.26 221.52 586.26 221.52 568.5 212.56 568.5 212.56 567.64 212.42 566.98 212.27 566.09 212.16 563.09 211.77 559.9 211.56 556.69 211.63\"/>\n",
    "\t<path d=\"M458.16 224.97C424.33 226.02 399.2 233.81 381.5 242.41 376.06 245.05 371.36 247.88 367.29 250.52 362.72 255.08 357.49 260.81 350.56 269.41 350.56 269.41 360.3 257.15 383.25 246 406.2 234.85 442.22 224.98 494.53 230.38 599.18 241.17 643.21 296.98 675.72 347 675.72 347 673.38 336.37 673.38 336.37 641.03 288.32 594.99 236.7 494.94 226.38 481.69 225.01 469.43 224.62 458.16 224.97\"/>\n",
    "</g>\n",
    "</svg>"
   ]
  },
  {
   "cell_type": "code",
   "execution_count": 19,
   "metadata": {},
   "outputs": [],
   "source": [
    "%matplotlib inline\n"
   ]
  },
  {
   "cell_type": "code",
   "execution_count": 20,
   "metadata": {},
   "outputs": [],
   "source": [
    "import matplotlib.pylab as plt"
   ]
  },
  {
   "cell_type": "code",
   "execution_count": 25,
   "metadata": {},
   "outputs": [
    {
     "data": {
      "text/plain": [
       "[<matplotlib.lines.Line2D at 0x7fb2aadad278>]"
      ]
     },
     "execution_count": 25,
     "metadata": {},
     "output_type": "execute_result"
    },
    {
     "data": {
      "image/png": "[encoded data removed]",
      "text/plain": [
       "<Figure size 432x288 with 1 Axes>"
      ]
     },
     "metadata": {},
     "output_type": "display_data"
    }
   ],
   "source": [
    "x = [1,2,3,4,5]\n",
    "y = [2,3,4,5,8]\n",
    "plt.plot(x,y,\"*\")"
   ]
  },
  {
   "cell_type": "code",
   "execution_count": 29,
   "metadata": {},
   "outputs": [
    {
     "data": {
      "text/html": [
       "<html>\n",
       "<body>\n",
       "<img src=\"data:image/jpeg;base64,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\"></img>\n",
       "</body>\n",
       "</html>"
      ],
      "text/plain": [
       "<IPython.core.display.HTML object>"
      ]
     },
     "metadata": {},
     "output_type": "display_data"
    }
   ],
   "source": [
    "%%HTML\n",
    "<html>\n",
    "<body>\n",
    "<img src=\"data:image/jpeg;base64,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\"></img>\n",
    "</body>\n",
    "</html>\n"
   ]
  },
  {
   "cell_type": "code",
   "execution_count": null,
   "metadata": {},
   "outputs": [],
   "source": []
  },
  {
   "cell_type": "code",
   "execution_count": null,
   "metadata": {},
   "outputs": [],
   "source": []
  },
  {
   "cell_type": "code",
   "execution_count": null,
   "metadata": {},
   "outputs": [],
   "source": []
  },
  {
   "cell_type": "code",
   "execution_count": null,
   "metadata": {},
   "outputs": [],
   "source": []
  },
  {
   "cell_type": "code",
   "execution_count": null,
   "metadata": {},
   "outputs": [],
   "source": []
  },
  {
   "cell_type": "code",
   "execution_count": null,
   "metadata": {},
   "outputs": [],
   "source": []
  },
  {
   "cell_type": "code",
   "execution_count": null,
   "metadata": {},
   "outputs": [],
   "source": []
  },
  {
   "cell_type": "code",
   "execution_count": null,
   "metadata": {},
   "outputs": [],
   "source": []
  },
  {
   "cell_type": "code",
   "execution_count": null,
   "metadata": {},
   "outputs": [],
   "source": []
  },
  {
   "cell_type": "code",
   "execution_count": null,
   "metadata": {},
   "outputs": [],
   "source": []
  }
 ],
 "metadata": {
  "kernelspec": {
   "display_name": "Python 3",
   "language": "python",
   "name": "python3"
  },
  "language_info": {
   "codemirror_mode": {
    "name": "ipython",
    "version": 3
   },
   "file_extension": ".py",
   "mimetype": "text/x-python",
   "name": "python",
   "nbconvert_exporter": "python",
   "pygments_lexer": "ipython3",
   "version": "3.6.4"
  }
 },
 "nbformat": 4,
 "nbformat_minor": 2
}
